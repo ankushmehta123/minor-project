{
 "cells": [
  {
   "cell_type": "code",
   "execution_count": 1,
   "id": "d719cfef",
   "metadata": {
    "execution": {
     "iopub.execute_input": "2024-04-25T17:30:36.173163Z",
     "iopub.status.busy": "2024-04-25T17:30:36.172805Z",
     "iopub.status.idle": "2024-04-25T17:30:37.014443Z",
     "shell.execute_reply": "2024-04-25T17:30:37.013454Z"
    },
    "papermill": {
     "duration": 0.850162,
     "end_time": "2024-04-25T17:30:37.016703",
     "exception": false,
     "start_time": "2024-04-25T17:30:36.166541",
     "status": "completed"
    },
    "tags": []
   },
   "outputs": [],
   "source": [
    "# Import necessary libraries  \n",
    "import pandas as pd\n",
    "import numpy as np\n",
    "\n",
    "# Load the labels dataset from the .csv file\n",
    "df = pd.read_csv('/kaggle/input/dcsass-dataset/DCSASS Dataset/Labels/Shoplifting.csv')"
   ]
  },
  {
   "cell_type": "code",
   "execution_count": 2,
   "id": "152e1642",
   "metadata": {
    "execution": {
     "iopub.execute_input": "2024-04-25T17:30:37.027845Z",
     "iopub.status.busy": "2024-04-25T17:30:37.027577Z",
     "iopub.status.idle": "2024-04-25T17:30:37.045363Z",
     "shell.execute_reply": "2024-04-25T17:30:37.044515Z"
    },
    "papermill": {
     "duration": 0.025314,
     "end_time": "2024-04-25T17:30:37.047254",
     "exception": false,
     "start_time": "2024-04-25T17:30:37.021940",
     "status": "completed"
    },
    "tags": []
   },
   "outputs": [],
   "source": [
    "# Rename first column that contains the video paths\n",
    "df['video_path'] = df['Shoplifting001_x264_0']\n",
    "# Drop the unnecessary columns\n",
    "df = df.drop(columns=['Shoplifting001_x264_0','Shoplifting'])\n",
    "# Rename the columns for clarity\n",
    "df = df.rename(columns={'0': 'label'})\n",
    "df['video_path'] = df['video_path'].apply(lambda x: f\"{x}.mp4\")"
   ]
  },
  {
   "cell_type": "code",
   "execution_count": 3,
   "id": "bf63a383",
   "metadata": {
    "execution": {
     "iopub.execute_input": "2024-04-25T17:30:37.057634Z",
     "iopub.status.busy": "2024-04-25T17:30:37.057377Z",
     "iopub.status.idle": "2024-04-25T17:30:38.244883Z",
     "shell.execute_reply": "2024-04-25T17:30:38.243984Z"
    },
    "papermill": {
     "duration": 1.195687,
     "end_time": "2024-04-25T17:30:38.247572",
     "exception": false,
     "start_time": "2024-04-25T17:30:37.051885",
     "status": "completed"
    },
    "tags": []
   },
   "outputs": [
    {
     "name": "stdout",
     "output_type": "stream",
     "text": [
      "Number of training videos: 537\n",
      "Number of validation videos: 179\n",
      "Number of test videos: 179\n"
     ]
    }
   ],
   "source": [
    "from sklearn.model_selection import train_test_split\n",
    "# Assuming df is your DataFrame and 'video_path' is the column with the video file paths\n",
    "video_paths = df['video_path'].tolist()\n",
    "\n",
    "# Split the dataset into training and temporary sets\n",
    "train_paths, temp_paths = train_test_split(video_paths, test_size=0.4, random_state=42)\n",
    "\n",
    "# Further split the temporary set into validation and test sets\n",
    "val_paths, test_paths = train_test_split(temp_paths, test_size=0.5, random_state=42)\n",
    "\n",
    "# Now you have your splits\n",
    "print(\"Number of training videos:\", len(train_paths))\n",
    "print(\"Number of validation videos:\", len(val_paths))\n",
    "print(\"Number of test videos:\", len(test_paths))"
   ]
  },
  {
   "cell_type": "code",
   "execution_count": 4,
   "id": "a9391a1e",
   "metadata": {
    "execution": {
     "iopub.execute_input": "2024-04-25T17:30:38.259055Z",
     "iopub.status.busy": "2024-04-25T17:30:38.258445Z",
     "iopub.status.idle": "2024-04-25T17:30:38.270368Z",
     "shell.execute_reply": "2024-04-25T17:30:38.269475Z"
    },
    "papermill": {
     "duration": 0.019542,
     "end_time": "2024-04-25T17:30:38.272278",
     "exception": false,
     "start_time": "2024-04-25T17:30:38.252736",
     "status": "completed"
    },
    "tags": []
   },
   "outputs": [],
   "source": [
    "train_df = df[df['video_path'].isin(train_paths)]\n",
    "val_df = df[df['video_path'].isin(val_paths)]\n",
    "test_df = df[df['video_path'].isin(test_paths)]"
   ]
  },
  {
   "cell_type": "code",
   "execution_count": 5,
   "id": "8f2b252d",
   "metadata": {
    "execution": {
     "iopub.execute_input": "2024-04-25T17:30:38.282894Z",
     "iopub.status.busy": "2024-04-25T17:30:38.282644Z",
     "iopub.status.idle": "2024-04-25T17:30:54.453110Z",
     "shell.execute_reply": "2024-04-25T17:30:54.452147Z"
    },
    "papermill": {
     "duration": 16.178599,
     "end_time": "2024-04-25T17:30:54.455599",
     "exception": false,
     "start_time": "2024-04-25T17:30:38.277000",
     "status": "completed"
    },
    "tags": []
   },
   "outputs": [
    {
     "name": "stdout",
     "output_type": "stream",
     "text": [
      "Collecting mediapipe\r\n",
      "  Downloading mediapipe-0.10.11-cp310-cp310-manylinux_2_17_x86_64.manylinux2014_x86_64.whl.metadata (9.7 kB)\r\n",
      "Requirement already satisfied: absl-py in /opt/conda/lib/python3.10/site-packages (from mediapipe) (1.4.0)\r\n",
      "Requirement already satisfied: attrs>=19.1.0 in /opt/conda/lib/python3.10/site-packages (from mediapipe) (23.2.0)\r\n",
      "Requirement already satisfied: flatbuffers>=2.0 in /opt/conda/lib/python3.10/site-packages (from mediapipe) (23.5.26)\r\n",
      "Requirement already satisfied: jax in /opt/conda/lib/python3.10/site-packages (from mediapipe) (0.4.23)\r\n",
      "Requirement already satisfied: jaxlib in /opt/conda/lib/python3.10/site-packages (from mediapipe) (0.4.23.dev20240116)\r\n",
      "Requirement already satisfied: matplotlib in /opt/conda/lib/python3.10/site-packages (from mediapipe) (3.7.5)\r\n",
      "Requirement already satisfied: numpy in /opt/conda/lib/python3.10/site-packages (from mediapipe) (1.26.4)\r\n",
      "Requirement already satisfied: torch in /opt/conda/lib/python3.10/site-packages (from mediapipe) (2.1.2)\r\n",
      "Requirement already satisfied: opencv-contrib-python in /opt/conda/lib/python3.10/site-packages (from mediapipe) (4.9.0.80)\r\n",
      "Requirement already satisfied: protobuf<4,>=3.11 in /opt/conda/lib/python3.10/site-packages (from mediapipe) (3.20.3)\r\n",
      "Collecting sounddevice>=0.4.4 (from mediapipe)\r\n",
      "  Downloading sounddevice-0.4.6-py3-none-any.whl.metadata (1.4 kB)\r\n",
      "Requirement already satisfied: CFFI>=1.0 in /opt/conda/lib/python3.10/site-packages (from sounddevice>=0.4.4->mediapipe) (1.16.0)\r\n",
      "Requirement already satisfied: ml-dtypes>=0.2.0 in /opt/conda/lib/python3.10/site-packages (from jax->mediapipe) (0.2.0)\r\n",
      "Requirement already satisfied: opt-einsum in /opt/conda/lib/python3.10/site-packages (from jax->mediapipe) (3.3.0)\r\n",
      "Requirement already satisfied: scipy>=1.9 in /opt/conda/lib/python3.10/site-packages (from jax->mediapipe) (1.11.4)\r\n",
      "Requirement already satisfied: contourpy>=1.0.1 in /opt/conda/lib/python3.10/site-packages (from matplotlib->mediapipe) (1.2.0)\r\n",
      "Requirement already satisfied: cycler>=0.10 in /opt/conda/lib/python3.10/site-packages (from matplotlib->mediapipe) (0.12.1)\r\n",
      "Requirement already satisfied: fonttools>=4.22.0 in /opt/conda/lib/python3.10/site-packages (from matplotlib->mediapipe) (4.47.0)\r\n",
      "Requirement already satisfied: kiwisolver>=1.0.1 in /opt/conda/lib/python3.10/site-packages (from matplotlib->mediapipe) (1.4.5)\r\n",
      "Requirement already satisfied: packaging>=20.0 in /opt/conda/lib/python3.10/site-packages (from matplotlib->mediapipe) (21.3)\r\n",
      "Requirement already satisfied: pillow>=6.2.0 in /opt/conda/lib/python3.10/site-packages (from matplotlib->mediapipe) (9.5.0)\r\n",
      "Requirement already satisfied: pyparsing>=2.3.1 in /opt/conda/lib/python3.10/site-packages (from matplotlib->mediapipe) (3.1.1)\r\n",
      "Requirement already satisfied: python-dateutil>=2.7 in /opt/conda/lib/python3.10/site-packages (from matplotlib->mediapipe) (2.9.0.post0)\r\n",
      "Requirement already satisfied: filelock in /opt/conda/lib/python3.10/site-packages (from torch->mediapipe) (3.13.1)\r\n",
      "Requirement already satisfied: typing-extensions in /opt/conda/lib/python3.10/site-packages (from torch->mediapipe) (4.9.0)\r\n",
      "Requirement already satisfied: sympy in /opt/conda/lib/python3.10/site-packages (from torch->mediapipe) (1.12)\r\n",
      "Requirement already satisfied: networkx in /opt/conda/lib/python3.10/site-packages (from torch->mediapipe) (3.2.1)\r\n",
      "Requirement already satisfied: jinja2 in /opt/conda/lib/python3.10/site-packages (from torch->mediapipe) (3.1.2)\r\n",
      "Requirement already satisfied: fsspec in /opt/conda/lib/python3.10/site-packages (from torch->mediapipe) (2024.2.0)\r\n",
      "Requirement already satisfied: pycparser in /opt/conda/lib/python3.10/site-packages (from CFFI>=1.0->sounddevice>=0.4.4->mediapipe) (2.21)\r\n",
      "Requirement already satisfied: six>=1.5 in /opt/conda/lib/python3.10/site-packages (from python-dateutil>=2.7->matplotlib->mediapipe) (1.16.0)\r\n",
      "Requirement already satisfied: MarkupSafe>=2.0 in /opt/conda/lib/python3.10/site-packages (from jinja2->torch->mediapipe) (2.1.3)\r\n",
      "Requirement already satisfied: mpmath>=0.19 in /opt/conda/lib/python3.10/site-packages (from sympy->torch->mediapipe) (1.3.0)\r\n",
      "Downloading mediapipe-0.10.11-cp310-cp310-manylinux_2_17_x86_64.manylinux2014_x86_64.whl (35.6 MB)\r\n",
      "\u001b[2K   \u001b[90m━━━━━━━━━━━━━━━━━━━━━━━━━━━━━━━━━━━━━━━━\u001b[0m \u001b[32m35.6/35.6 MB\u001b[0m \u001b[31m44.4 MB/s\u001b[0m eta \u001b[36m0:00:00\u001b[0m\r\n",
      "\u001b[?25hDownloading sounddevice-0.4.6-py3-none-any.whl (31 kB)\r\n",
      "Installing collected packages: sounddevice, mediapipe\r\n",
      "Successfully installed mediapipe-0.10.11 sounddevice-0.4.6\r\n"
     ]
    }
   ],
   "source": [
    "!pip install mediapipe"
   ]
  },
  {
   "cell_type": "code",
   "execution_count": 6,
   "id": "1c1af4f1",
   "metadata": {
    "execution": {
     "iopub.execute_input": "2024-04-25T17:30:54.472568Z",
     "iopub.status.busy": "2024-04-25T17:30:54.472269Z",
     "iopub.status.idle": "2024-04-25T17:33:04.613038Z",
     "shell.execute_reply": "2024-04-25T17:33:04.611982Z"
    },
    "papermill": {
     "duration": 130.153995,
     "end_time": "2024-04-25T17:33:04.617164",
     "exception": false,
     "start_time": "2024-04-25T17:30:54.463169",
     "status": "completed"
    },
    "tags": []
   },
   "outputs": [
    {
     "name": "stderr",
     "output_type": "stream",
     "text": [
      "2024-04-25 17:30:57.243573: E external/local_xla/xla/stream_executor/cuda/cuda_dnn.cc:9261] Unable to register cuDNN factory: Attempting to register factory for plugin cuDNN when one has already been registered\n",
      "2024-04-25 17:30:57.243684: E external/local_xla/xla/stream_executor/cuda/cuda_fft.cc:607] Unable to register cuFFT factory: Attempting to register factory for plugin cuFFT when one has already been registered\n",
      "2024-04-25 17:30:57.415143: E external/local_xla/xla/stream_executor/cuda/cuda_blas.cc:1515] Unable to register cuBLAS factory: Attempting to register factory for plugin cuBLAS when one has already been registered\n",
      "Processing Training videos:   0%|          | 0/537 [00:00<?, ?it/s]INFO: Created TensorFlow Lite XNNPACK delegate for CPU.\n",
      "Processing Training videos: 100%|██████████| 537/537 [01:09<00:00,  7.73it/s]\n",
      "Processing Validation videos: 100%|██████████| 179/179 [00:23<00:00,  7.66it/s]\n",
      "Processing Testing videos: 100%|██████████| 179/179 [00:23<00:00,  7.55it/s]"
     ]
    },
    {
     "name": "stdout",
     "output_type": "stream",
     "text": [
      "Finished processing all videos with data augmentation.\n"
     ]
    },
    {
     "name": "stderr",
     "output_type": "stream",
     "text": [
      "\n"
     ]
    }
   ],
   "source": [
    "import cv2\n",
    "import mediapipe as mp\n",
    "from tqdm import tqdm\n",
    "import os\n",
    "import numpy as np\n",
    "\n",
    "# Initialize MediaPipe Pose.\n",
    "mp_drawing = mp.solutions.drawing_utils\n",
    "mp_pose = mp.solutions.pose\n",
    "\n",
    "# Function to process videos and save augmented images\n",
    "def process_videos(df, split_name, augment=True):\n",
    "    # Create a directory to save the processed images in the /kaggle/working directory\n",
    "    output_dir = os.path.join('/kaggle/working', f\"{split_name}_processed_images\")\n",
    "    os.makedirs(output_dir, exist_ok=True)\n",
    "\n",
    "    for video_file in tqdm(df['video_path'], desc=f\"Processing {split_name} videos\"):\n",
    "        cap = cv2.VideoCapture(video_file)\n",
    "        frame_count = 0\n",
    "\n",
    "        with mp_pose.Pose(min_detection_confidence=0.5, min_tracking_confidence=0.5) as pose:\n",
    "            while cap.isOpened():\n",
    "                success, image = cap.read()\n",
    "                if not success:\n",
    "                    print(f\"Finished processing {video_file} from {split_name} set.\")\n",
    "                    break\n",
    "\n",
    "                # Convert the BGR image to RGB.\n",
    "                image = cv2.cvtColor(image, cv2.COLOR_BGR2RGB)\n",
    "                # Process the image and find pose landmarks.\n",
    "                results = pose.process(image)\n",
    "\n",
    "                # Draw the pose annotation on the image.\n",
    "                image.flags.writeable = True\n",
    "                image = cv2.cvtColor(image, cv2.COLOR_RGB2BGR)\n",
    "                mp_drawing.draw_landmarks(image, results.pose_landmarks, mp_pose.POSE_CONNECTIONS)\n",
    "\n",
    "                # Augment the image if augment is True\n",
    "                if augment:\n",
    "                    # Example augmentation: horizontal flipping\n",
    "                    image = cv2.flip(image, 1)\n",
    "\n",
    "                # Save the image to disk\n",
    "                output_path = os.path.join(output_dir, f\"{os.path.basename(video_file).split('.')[0]}_frame_{frame_count}.jpg\")\n",
    "                cv2.imwrite(output_path, image)\n",
    "                frame_count += 1\n",
    "\n",
    "        cap.release()\n",
    "\n",
    "# Process videos from each split with data augmentation\n",
    "process_videos(train_df, 'Training', augment=True)\n",
    "process_videos(val_df, 'Validation', augment=True)  # No augmentation for validation\n",
    "process_videos(test_df, 'Testing', augment=False)    # No augmentation for testing\n",
    "\n",
    "print(\"Finished processing all videos with data augmentation.\")"
   ]
  },
  {
   "cell_type": "code",
   "execution_count": 7,
   "id": "9457a863",
   "metadata": {
    "execution": {
     "iopub.execute_input": "2024-04-25T17:33:04.774885Z",
     "iopub.status.busy": "2024-04-25T17:33:04.773978Z",
     "iopub.status.idle": "2024-04-25T17:33:04.778476Z",
     "shell.execute_reply": "2024-04-25T17:33:04.777621Z"
    },
    "papermill": {
     "duration": 0.084571,
     "end_time": "2024-04-25T17:33:04.780469",
     "exception": false,
     "start_time": "2024-04-25T17:33:04.695898",
     "status": "completed"
    },
    "tags": []
   },
   "outputs": [],
   "source": [
    "root = '/kaggle/input/dcsass-dataset/DCSASS Dataset/Shoplifting'"
   ]
  },
  {
   "cell_type": "code",
   "execution_count": 8,
   "id": "f9c4cfe7",
   "metadata": {
    "execution": {
     "iopub.execute_input": "2024-04-25T17:33:04.937755Z",
     "iopub.status.busy": "2024-04-25T17:33:04.937436Z",
     "iopub.status.idle": "2024-04-25T17:33:04.948226Z",
     "shell.execute_reply": "2024-04-25T17:33:04.947477Z"
    },
    "papermill": {
     "duration": 0.09342,
     "end_time": "2024-04-25T17:33:04.950200",
     "exception": false,
     "start_time": "2024-04-25T17:33:04.856780",
     "status": "completed"
    },
    "tags": []
   },
   "outputs": [],
   "source": [
    "import cv2\n",
    "import numpy as np\n",
    "import tensorflow as tf\n",
    "from sklearn.model_selection import train_test_split\n",
    "import re\n",
    "\n",
    "shoplifting = 0\n",
    "def preprocess_image(image):\n",
    "    # Resize the image to the expected input size of the MobileNet model (128x128)\n",
    "    image = cv2.resize(image, (128, 128))\n",
    "    # Normalize the pixel values to the range [0, 1]\n",
    "    image = image / 255.0\n",
    "    # Convert the image to a tensor\n",
    "    image = tf.convert_to_tensor(image, dtype=tf.float32)\n",
    "    return image\n",
    "\n",
    "def preprocess_data(df):\n",
    "    images = []\n",
    "    labels = []\n",
    "    \n",
    "    for index, row in df.iterrows():\n",
    "        # Remove substrings like \"_11\" from video_path using regex\n",
    "        video_path = re.sub(r'_\\d+', '', root + '/' + row['video_path'])\n",
    "        cap = cv2.VideoCapture(video_path+ '/' +row['video_path'])\n",
    "        \n",
    "        while cap.isOpened():\n",
    "            ret, frame = cap.read()\n",
    "            if not ret:\n",
    "                break\n",
    "            frame = preprocess_image(frame)\n",
    "            images.append(frame)\n",
    "            labels.append(row['label'])\n",
    "        \n",
    "        cap.release()\n",
    "    \n",
    "    images = tf.stack(images)\n",
    "    # Convert the list of numerical labels to a tensor\n",
    "    labels = tf.convert_to_tensor(labels, dtype=tf.float32)\n",
    "    print(len(images))\n",
    "    print(len(labels))\n",
    "    print(labels)\n",
    "    return images, labels"
   ]
  },
  {
   "cell_type": "code",
   "execution_count": 9,
   "id": "a7034ae6",
   "metadata": {
    "execution": {
     "iopub.execute_input": "2024-04-25T17:33:05.151096Z",
     "iopub.status.busy": "2024-04-25T17:33:05.150266Z",
     "iopub.status.idle": "2024-04-25T17:33:56.650470Z",
     "shell.execute_reply": "2024-04-25T17:33:56.649306Z"
    },
    "papermill": {
     "duration": 51.625938,
     "end_time": "2024-04-25T17:33:56.652871",
     "exception": false,
     "start_time": "2024-04-25T17:33:05.026933",
     "status": "completed"
    },
    "tags": []
   },
   "outputs": [
    {
     "name": "stdout",
     "output_type": "stream",
     "text": [
      "36480\n",
      "36480\n",
      "tf.Tensor([0. 0. 0. ... 0. 0. 0.], shape=(36480,), dtype=float32)\n",
      "12240\n",
      "12240\n",
      "tf.Tensor([0. 0. 0. ... 1. 1. 1.], shape=(12240,), dtype=float32)\n"
     ]
    }
   ],
   "source": [
    "with tf.device('/gpu:1'):\n",
    "    train_images, train_labels = preprocess_data(train_df)\n",
    "    val_images, val_labels = preprocess_data(val_df)"
   ]
  },
  {
   "cell_type": "code",
   "execution_count": 10,
   "id": "ce8f3ce1",
   "metadata": {
    "execution": {
     "iopub.execute_input": "2024-04-25T17:33:56.812206Z",
     "iopub.status.busy": "2024-04-25T17:33:56.811334Z",
     "iopub.status.idle": "2024-04-25T17:34:00.747469Z",
     "shell.execute_reply": "2024-04-25T17:34:00.746628Z"
    },
    "papermill": {
     "duration": 4.016768,
     "end_time": "2024-04-25T17:34:00.749762",
     "exception": false,
     "start_time": "2024-04-25T17:33:56.732994",
     "status": "completed"
    },
    "tags": []
   },
   "outputs": [
    {
     "name": "stderr",
     "output_type": "stream",
     "text": [
      "Attaching model 'google/mobilenet-v2/tensorflow2/035-128-classification/2' to your Kaggle notebook...\n"
     ]
    }
   ],
   "source": [
    "import tensorflow as tf\n",
    "import tensorflow_hub as hub\n",
    "\n",
    "# Conditionally import tf_keras as keras for TensorFlow 3.x compatibility\n",
    "version_fn = getattr(tf.keras, \"version\", None)\n",
    "if version_fn and version_fn().startswith(\"3.\"):\n",
    "    import tf_keras as keras\n",
    "else:\n",
    "    keras = tf.keras\n",
    "\n",
    "# Load the MobileNet model from TensorFlow Hub\n",
    "model_url = \"https://www.kaggle.com/models/google/mobilenet-v2/TensorFlow2/035-128-classification/2\"\n",
    "m = keras.Sequential([\n",
    "    hub.KerasLayer(model_url),\n",
    "    keras.layers.Dropout(0.5), \n",
    "    keras.layers.Dense(128, activation='relu', kernel_regularizer=keras.regularizers.l2(0.01)),  # Adding L2 regularization\n",
    "    keras.layers.Dropout(0.3),  # Add dropout with a dropout rate of 0.3\n",
    "    keras.layers.Dense(1, activation='sigmoid')\n",
    "])\n",
    "\n",
    "# Define the optimizer with the specified learning rate\n",
    "optimizer = keras.optimizers.Adam(learning_rate=0.0001)\n",
    "\n",
    "# Compile the model with binary crossentropy loss and the specified optimizer\n",
    "m.compile(optimizer=optimizer, loss='binary_crossentropy', metrics=['accuracy'])\n",
    "\n",
    "\n",
    "# Define learning rate scheduler\n",
    "def lr_scheduler(epoch, lr):\n",
    "    if epoch % 3 == 0 and epoch > 0:\n",
    "        lr = lr * 0.5  # Reduce learning rate by half every 3 epochs\n",
    "    return lr\n",
    "\n",
    "lr_scheduler_callback = keras.callbacks.LearningRateScheduler(lr_scheduler)\n"
   ]
  },
  {
   "cell_type": "code",
   "execution_count": 11,
   "id": "33c14108",
   "metadata": {
    "execution": {
     "iopub.execute_input": "2024-04-25T17:34:00.903525Z",
     "iopub.status.busy": "2024-04-25T17:34:00.903186Z",
     "iopub.status.idle": "2024-04-25T17:38:01.140561Z",
     "shell.execute_reply": "2024-04-25T17:38:01.139656Z"
    },
    "papermill": {
     "duration": 240.316833,
     "end_time": "2024-04-25T17:38:01.143005",
     "exception": false,
     "start_time": "2024-04-25T17:34:00.826172",
     "status": "completed"
    },
    "tags": []
   },
   "outputs": [
    {
     "name": "stdout",
     "output_type": "stream",
     "text": [
      "Epoch 1/15\n"
     ]
    },
    {
     "name": "stderr",
     "output_type": "stream",
     "text": [
      "WARNING: All log messages before absl::InitializeLog() is called are written to STDERR\n",
      "I0000 00:00:1714066483.371238    3672 device_compiler.h:186] Compiled cluster using XLA!  This line is logged at most once for the lifetime of the process.\n"
     ]
    },
    {
     "name": "stdout",
     "output_type": "stream",
     "text": [
      "1140/1140 [==============================] - 54s 15ms/step - loss: 2.1393 - accuracy: 0.8275 - val_loss: 1.5391 - val_accuracy: 0.8645 - lr: 1.0000e-04\n",
      "Epoch 2/15\n",
      "1140/1140 [==============================] - 12s 11ms/step - loss: 1.2761 - accuracy: 0.8689 - val_loss: 1.0019 - val_accuracy: 0.8852 - lr: 1.0000e-04\n",
      "Epoch 3/15\n",
      "1140/1140 [==============================] - 12s 11ms/step - loss: 0.8341 - accuracy: 0.8844 - val_loss: 0.7077 - val_accuracy: 0.8859 - lr: 1.0000e-04\n",
      "Epoch 4/15\n",
      "1140/1140 [==============================] - 12s 11ms/step - loss: 0.6187 - accuracy: 0.8999 - val_loss: 0.5961 - val_accuracy: 0.8922 - lr: 5.0000e-05\n",
      "Epoch 5/15\n",
      "1140/1140 [==============================] - 12s 11ms/step - loss: 0.5225 - accuracy: 0.9036 - val_loss: 0.5315 - val_accuracy: 0.8951 - lr: 5.0000e-05\n",
      "Epoch 6/15\n",
      "1140/1140 [==============================] - 12s 11ms/step - loss: 0.4495 - accuracy: 0.9109 - val_loss: 0.4571 - val_accuracy: 0.8925 - lr: 5.0000e-05\n",
      "Epoch 7/15\n",
      "1140/1140 [==============================] - 12s 11ms/step - loss: 0.4037 - accuracy: 0.9163 - val_loss: 0.4482 - val_accuracy: 0.8948 - lr: 2.5000e-05\n",
      "Epoch 8/15\n",
      "1140/1140 [==============================] - 12s 11ms/step - loss: 0.3796 - accuracy: 0.9191 - val_loss: 0.4224 - val_accuracy: 0.8958 - lr: 2.5000e-05\n",
      "Epoch 9/15\n",
      "1140/1140 [==============================] - 13s 11ms/step - loss: 0.3555 - accuracy: 0.9221 - val_loss: 0.4130 - val_accuracy: 0.8968 - lr: 2.5000e-05\n",
      "Epoch 10/15\n",
      "1140/1140 [==============================] - 12s 11ms/step - loss: 0.3393 - accuracy: 0.9238 - val_loss: 0.4020 - val_accuracy: 0.8982 - lr: 1.2500e-05\n",
      "Epoch 11/15\n",
      "1140/1140 [==============================] - 12s 11ms/step - loss: 0.3297 - accuracy: 0.9259 - val_loss: 0.4025 - val_accuracy: 0.8960 - lr: 1.2500e-05\n",
      "Epoch 12/15\n",
      "1140/1140 [==============================] - 12s 11ms/step - loss: 0.3200 - accuracy: 0.9276 - val_loss: 0.3865 - val_accuracy: 0.8967 - lr: 1.2500e-05\n",
      "Epoch 13/15\n",
      "1140/1140 [==============================] - 12s 11ms/step - loss: 0.3120 - accuracy: 0.9296 - val_loss: 0.3903 - val_accuracy: 0.8938 - lr: 6.2500e-06\n",
      "Epoch 14/15\n",
      "1140/1140 [==============================] - 12s 11ms/step - loss: 0.3092 - accuracy: 0.9293 - val_loss: 0.3866 - val_accuracy: 0.8958 - lr: 6.2500e-06\n",
      "Epoch 15/15\n",
      "1140/1140 [==============================] - 12s 11ms/step - loss: 0.3061 - accuracy: 0.9300 - val_loss: 0.3849 - val_accuracy: 0.8972 - lr: 6.2500e-06\n"
     ]
    }
   ],
   "source": [
    "# Train the model with callbacks\n",
    "history = m.fit(train_images, train_labels, epochs=15, validation_data=(val_images, val_labels),\n",
    "                callbacks=[ lr_scheduler_callback])"
   ]
  },
  {
   "cell_type": "code",
   "execution_count": 12,
   "id": "c41e9740",
   "metadata": {
    "execution": {
     "iopub.execute_input": "2024-04-25T17:38:01.748741Z",
     "iopub.status.busy": "2024-04-25T17:38:01.747976Z",
     "iopub.status.idle": "2024-04-25T17:38:02.386272Z",
     "shell.execute_reply": "2024-04-25T17:38:02.385324Z"
    },
    "papermill": {
     "duration": 0.936703,
     "end_time": "2024-04-25T17:38:02.388356",
     "exception": false,
     "start_time": "2024-04-25T17:38:01.451653",
     "status": "completed"
    },
    "tags": []
   },
   "outputs": [
    {
     "data": {
      "image/png": "[encoded data removed]",
      "text/plain": [
       "<Figure size 640x480 with 1 Axes>"
      ]
     },
     "metadata": {},
     "output_type": "display_data"
    },
    {
     "data": {
      "image/png": "[encoded data removed]",
      "text/plain": [
       "<Figure size 640x480 with 1 Axes>"
      ]
     },
     "metadata": {},
     "output_type": "display_data"
    }
   ],
   "source": [
    "import matplotlib.pyplot as plt\n",
    "\n",
    "# Enable eager execution\n",
    "tf.config.run_functions_eagerly(True)\n",
    "\n",
    "# Plot training & validation accuracy values\n",
    "plt.plot(history.history['accuracy'])\n",
    "plt.plot(history.history['val_accuracy'])\n",
    "plt.title('Model accuracy')\n",
    "plt.ylabel('Accuracy')\n",
    "plt.xlabel('Epoch')\n",
    "plt.legend(['Train', 'Validation'], loc='upper left')\n",
    "plt.show()\n",
    "\n",
    "# Plot training & validation loss values\n",
    "plt.plot(history.history['loss'])\n",
    "plt.plot(history.history['val_loss'])\n",
    "plt.title('Model loss')\n",
    "plt.ylabel('Loss')\n",
    "plt.xlabel('Epoch')\n",
    "plt.legend(['Train', 'Validation'], loc='upper left')\n",
    "plt.show()"
   ]
  },
  {
   "cell_type": "code",
   "execution_count": 13,
   "id": "2d69b0a4",
   "metadata": {
    "execution": {
     "iopub.execute_input": "2024-04-25T17:38:03.002784Z",
     "iopub.status.busy": "2024-04-25T17:38:03.001817Z",
     "iopub.status.idle": "2024-04-25T17:38:22.333458Z",
     "shell.execute_reply": "2024-04-25T17:38:22.332519Z"
    },
    "papermill": {
     "duration": 19.662943,
     "end_time": "2024-04-25T17:38:22.335845",
     "exception": false,
     "start_time": "2024-04-25T17:38:02.672902",
     "status": "completed"
    },
    "tags": []
   },
   "outputs": [
    {
     "name": "stdout",
     "output_type": "stream",
     "text": [
      "12600\n",
      "12600\n",
      "tf.Tensor([0. 0. 0. ... 0. 0. 0.], shape=(12600,), dtype=float32)\n"
     ]
    },
    {
     "name": "stderr",
     "output_type": "stream",
     "text": [
      "/opt/conda/lib/python3.10/site-packages/tensorflow/python/data/ops/structured_function.py:258: UserWarning: Even though the `tf.config.experimental_run_functions_eagerly` option is set, this option does not apply to tf.data functions. To force eager execution of tf.data functions, please use `tf.data.experimental.enable_debug_mode()`.\n",
      "  warnings.warn(\n"
     ]
    }
   ],
   "source": [
    "test_images, test_labels = preprocess_data(test_df)\n",
    "predictions = m.predict(test_images, verbose=0)"
   ]
  },
  {
   "cell_type": "code",
   "execution_count": 14,
   "id": "28470749",
   "metadata": {
    "execution": {
     "iopub.execute_input": "2024-04-25T17:38:22.894219Z",
     "iopub.status.busy": "2024-04-25T17:38:22.893829Z",
     "iopub.status.idle": "2024-04-25T17:38:22.967661Z",
     "shell.execute_reply": "2024-04-25T17:38:22.966589Z"
    },
    "papermill": {
     "duration": 0.353579,
     "end_time": "2024-04-25T17:38:22.969628",
     "exception": false,
     "start_time": "2024-04-25T17:38:22.616049",
     "status": "completed"
    },
    "tags": []
   },
   "outputs": [
    {
     "name": "stdout",
     "output_type": "stream",
     "text": [
      "Precision: 0.620855614973262\n",
      "Recall: 0.5608695652173913\n",
      "F1 Score: 0.5893401015228427\n",
      "Confusion Matrix:\n",
      "[[9821  709]\n",
      " [ 909 1161]]\n",
      "Accuracy: 0.8715873015873016\n"
     ]
    }
   ],
   "source": [
    "from sklearn.metrics import precision_recall_fscore_support, confusion_matrix, accuracy_score\n",
    "\n",
    "# Assuming predictions are probabilities\n",
    "threshold = 0.5  # Adjust based on your specific use case\n",
    "predicted_labels = (predictions > threshold).astype(int)\n",
    "\n",
    "# Now, both test_labels and predicted_labels are in the correct format for classification\n",
    "precision, recall, f1_score, _ = precision_recall_fscore_support(test_labels, predicted_labels, average='binary')\n",
    "conf_matrix = confusion_matrix(test_labels, predicted_labels)\n",
    "accuracy = accuracy_score(test_labels, predicted_labels)  # Calculate accuracy\n",
    "\n",
    "print(f\"Precision: {precision}\")\n",
    "print(f\"Recall: {recall}\")\n",
    "print(f\"F1 Score: {f1_score}\")\n",
    "print(f\"Confusion Matrix:\\n{conf_matrix}\")\n",
    "print(f\"Accuracy: {accuracy}\")"
   ]
  },
  {
   "cell_type": "code",
   "execution_count": 15,
   "id": "18874873",
   "metadata": {
    "execution": {
     "iopub.execute_input": "2024-04-25T17:38:23.588510Z",
     "iopub.status.busy": "2024-04-25T17:38:23.588162Z",
     "iopub.status.idle": "2024-04-25T17:38:24.189127Z",
     "shell.execute_reply": "2024-04-25T17:38:24.188278Z"
    },
    "papermill": {
     "duration": 0.902604,
     "end_time": "2024-04-25T17:38:24.191322",
     "exception": false,
     "start_time": "2024-04-25T17:38:23.288718",
     "status": "completed"
    },
    "tags": []
   },
   "outputs": [
    {
     "data": {
      "image/png": "[encoded data removed]",
      "text/plain": [
       "<Figure size 1000x700 with 2 Axes>"
      ]
     },
     "metadata": {},
     "output_type": "display_data"
    }
   ],
   "source": [
    "import matplotlib.pyplot as plt\n",
    "import seaborn as sns\n",
    "from sklearn.metrics import confusion_matrix\n",
    "# Plot the confusion matrix\n",
    "plt.figure(figsize=(10, 7))\n",
    "sns.heatmap(conf_matrix, annot=True, fmt='d', cmap='Blues')\n",
    "plt.xlabel('Predicted')\n",
    "plt.ylabel('True')\n",
    "plt.title('Confusion Matrix')\n",
    "plt.show()"
   ]
  }
 ],
 "metadata": {
  "kaggle": {
   "accelerator": "nvidiaTeslaT4",
   "dataSources": [
    {
     "datasetId": 205791,
     "sourceId": 451400,
     "sourceType": "datasetVersion"
    },
    {
     "modelInstanceId": 2508,
     "sourceId": 3404,
     "sourceType": "modelInstanceVersion"
    }
   ],
   "dockerImageVersionId": 30698,
   "isGpuEnabled": true,
   "isInternetEnabled": true,
   "language": "python",
   "sourceType": "notebook"
  },
  "kernelspec": {
   "display_name": "Python 3",
   "language": "python",
   "name": "python3"
  },
  "language_info": {
   "codemirror_mode": {
    "name": "ipython",
    "version": 3
   },
   "file_extension": ".py",
   "mimetype": "text/x-python",
   "name": "python",
   "nbconvert_exporter": "python",
   "pygments_lexer": "ipython3",
   "version": "3.10.13"
  },
  "papermill": {
   "default_parameters": {},
   "duration": 474.627373,
   "end_time": "2024-04-25T17:38:27.807027",
   "environment_variables": {},
   "exception": null,
   "input_path": "__notebook__.ipynb",
   "output_path": "__notebook__.ipynb",
   "parameters": {},
   "start_time": "2024-04-25T17:30:33.179654",
   "version": "2.5.0"
  }
 },
 "nbformat": 4,
 "nbformat_minor": 5
}
